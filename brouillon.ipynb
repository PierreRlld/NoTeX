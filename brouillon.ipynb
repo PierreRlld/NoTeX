{
 "cells": [
  {
   "cell_type": "code",
   "execution_count": 2,
   "metadata": {},
   "outputs": [],
   "source": [
    "import pandas as pd \n",
    "import os\n",
    "from shutil import copytree\n",
    "from tqdm import tqdm\n",
    "from update import *\n",
    "base=\"/Users/prld/Dropbox/ENSAE/\" # /\"folder\"/Notes \n",
    "final=\"/Users/prld/git/NoTeX/\" # /\"folder\"/Notes"
   ]
  },
  {
   "cell_type": "code",
   "execution_count": 3,
   "metadata": {},
   "outputs": [
    {
     "data": {
      "text/plain": [
       "['/Users/prld/Dropbox/ENSAE/app bdf3.docx',\n",
       " '/Users/prld/Dropbox/ENSAE/Bonjour monsieur.docx',\n",
       " '/Users/prld/Dropbox/ENSAE/.DS_Store',\n",
       " '/Users/prld/Dropbox/ENSAE/doc2.pdf',\n",
       " '/Users/prld/Dropbox/ENSAE/app bdf.docx',\n",
       " '/Users/prld/Dropbox/ENSAE/Motivation entreprise.docx',\n",
       " '/Users/prld/Dropbox/ENSAE/1A/CN/中文.docx',\n",
       " '/Users/prld/Dropbox/ENSAE/1A/CN/ROUILLARD PIERRE DM.pdf',\n",
       " '/Users/prld/Dropbox/ENSAE/1A/CN/Verbes.pdf',\n",
       " '/Users/prld/Dropbox/ENSAE/1A/CN/DM CH2.pdf',\n",
       " '/Users/prld/Dropbox/ENSAE/1A/CN/CC3.pdf',\n",
       " '/Users/prld/Dropbox/ENSAE/1A/CN/L1.déb (1).pdf',\n",
       " '/Users/prld/Dropbox/ENSAE/1A/CN/CC1 Rouillard Pierre.pdf',\n",
       " '/Users/prld/Dropbox/ENSAE/1A/CN/CC ROUILLARD PIERRE.pdf',\n",
       " '/Users/prld/Dropbox/ENSAE/1A/CN/L2a.pdf',\n",
       " '/Users/prld/Dropbox/ENSAE/1A/CN/L2b CH2.pdf',\n",
       " '/Users/prld/Dropbox/ENSAE/1A/CN/Voc.pdf',\n",
       " '/Users/prld/Dropbox/ENSAE/1A/CN/DS3 ROUILLARD PIERRE.pdf',\n",
       " '/Users/prld/Dropbox/ENSAE/1A/CN/CC3 CH2.pdf',\n",
       " '/Users/prld/Dropbox/ENSAE/1A/1A S1/fiche-HDFE.pdf',\n",
       " '/Users/prld/Dropbox/ENSAE/1A/1A S1/c1.docx',\n",
       " '/Users/prld/Dropbox/ENSAE/1A/1A S1/17de545043395400472673f986f875c7.docx',\n",
       " '/Users/prld/Dropbox/ENSAE/1A/1A S1/S1 ECO/Chapitre 5 temps et incertitude financière.pdf',\n",
       " '/Users/prld/Dropbox/ENSAE/1A/1A S1/S1 ECO/Chapitre 5 le marché et la concurrence.pdf',\n",
       " '/Users/prld/Dropbox/ENSAE/1A/1A S1/S1 ECO/Chapitre 6 - Les APU.pdf',\n",
       " '/Users/prld/Dropbox/ENSAE/1A/1A S1/S1 ECO/Chapitre 7 - Le reste du monde.pdf',\n",
       " '/Users/prld/Dropbox/ENSAE/1A/1A S1/S1 ECO/Système financier.pdf',\n",
       " '/Users/prld/Dropbox/ENSAE/1A/1A S1/Memoire/qu_est_ce_que_la_politique_monetaire.pdf',\n",
       " '/Users/prld/Dropbox/ENSAE/1A/1A S1/Memoire/l_eco-en-bref_la-politique-monetaire_201607.pdf',\n",
       " '/Users/prld/Dropbox/ENSAE/1A/1A S1/Memoire/document.pdf',\n",
       " '/Users/prld/Dropbox/ENSAE/1A/1A S1/Memoire/l-eco-en-bref-politiques-monetaires-non-conventionnelles-2019-02-21_0.pdf',\n",
       " '/Users/prld/Dropbox/ENSAE/1A/1A S1/Memoire/2009-007-56.pdf',\n",
       " '/Users/prld/Dropbox/ENSAE/1A/1A S1/Memoire/eco-en-bref-dette-publique.pdf',\n",
       " '/Users/prld/Dropbox/ENSAE/1A/1A S1/Memoire/bilan science po.pdf',\n",
       " '/Users/prld/Dropbox/ENSAE/1A/1A S1/Memoire/818345-eco-bref_stab-fi.pdf',\n",
       " '/Users/prld/Dropbox/ENSAE/1A/1A S1/Memoire/820207-4pages-lpr-090720.pdf',\n",
       " '/Users/prld/Dropbox/ENSAE/1A/1A S1/Memoire/mot-de-l-actu_quantitative-easing.pdf',\n",
       " '/Users/prld/Dropbox/ENSAE/1A/1A S1/Memoire/820208_bdf230-2_covid19_cv_vf.pdf',\n",
       " '/Users/prld/Dropbox/ENSAE/1A/1A S1/Memoire/Banques-centrales-évolutions-récentes-et-marchés-financiers.pdf',\n",
       " '/Users/prld/Dropbox/ENSAE/1A/1A S1/Memoire/enquete-impact-covid-2020-09-29.pdf',\n",
       " '/Users/prld/Dropbox/ENSAE/1A/1A S1/Memoire/TDB_George_Gregory.pdf',\n",
       " '/Users/prld/Dropbox/ENSAE/1A/1A S1/Memoire/eeb_comprendre-la-crise-eco-covid19-20200518.pdf',\n",
       " '/Users/prld/Dropbox/ENSAE/1A/1A S1/Memoire/2018-001-213.pdf',\n",
       " '/Users/prld/Dropbox/ENSAE/1A/1A S1/Memoire/Flash_eco_0315-Le_bilan_d_une_banque_centrale_a_l_heure_du_QE.pdf',\n",
       " '/Users/prld/Dropbox/ENSAE/1A/1A S2/.DS_Store',\n",
       " '/Users/prld/Dropbox/ENSAE/1A/1A S2/AnalyseNum/8a19a1afe2218b5bd95ab5d8f5ece837.pdf',\n",
       " '/Users/prld/Dropbox/ENSAE/1A/1A S2/AnalyseNum/570361887e6964ca814a448bba7e152f.pdf',\n",
       " '/Users/prld/Dropbox/ENSAE/1A/1A S2/Econophy/chap3.pdf',\n",
       " '/Users/prld/Dropbox/ENSAE/1A/1A S2/OptiD/mi_parcours_2017_corrige.pdf',\n",
       " '/Users/prld/Dropbox/ENSAE/1A/1A S2/OptiD/corrections_tds.pdf',\n",
       " '/Users/prld/Dropbox/ENSAE/1A/1A S2/Stat/Cours3.pdf',\n",
       " '/Users/prld/Dropbox/ENSAE/1A/1A S2/Macro/Chap3_Monnaie_2021b.pdf',\n",
       " '/Users/prld/Dropbox/ENSAE/2A/Oral speech.docx',\n",
       " '/Users/prld/Dropbox/ENSAE/2A/.DS_Store',\n",
       " '/Users/prld/Dropbox/ENSAE/2A/english 2.docx',\n",
       " '/Users/prld/Dropbox/ENSAE/2A/Notes CBoW.pdf',\n",
       " '/Users/prld/Dropbox/ENSAE/2A/test1.pdf',\n",
       " '/Users/prld/Dropbox/ENSAE/2A/doc5.PDF',\n",
       " '/Users/prld/Dropbox/ENSAE/2A/doc41.pdf',\n",
       " '/Users/prld/Dropbox/ENSAE/2A/doc4.pdf',\n",
       " '/Users/prld/Dropbox/ENSAE/2A/doc6.pdf',\n",
       " '/Users/prld/Dropbox/ENSAE/2A/doc3.pdf',\n",
       " '/Users/prld/Dropbox/ENSAE/2A/doc2.pdf',\n",
       " '/Users/prld/Dropbox/ENSAE/2A/24d1e94df57bb58588488cd486b54403.pdf',\n",
       " '/Users/prld/Dropbox/ENSAE/2A/doc1.pdf',\n",
       " '/Users/prld/Dropbox/ENSAE/2A/DM4 Rouillard Pierre.pdf',\n",
       " '/Users/prld/Dropbox/ENSAE/2A/SerT/c6d605cad27f99e4b5e01688ad8e7ccc.pdf',\n",
       " '/Users/prld/Dropbox/ENSAE/2A/SerT/67aaaae0d1655e0c24147f9885dc83e5.pdf',\n",
       " '/Users/prld/Dropbox/ENSAE/2A/Macro1/TD/corr TD2.pdf',\n",
       " '/Users/prld/Dropbox/ENSAE/2A/Macro1/TD/corr TD1.pdf',\n",
       " '/Users/prld/Dropbox/ENSAE/2A/Macro1/TD/td4.pdf',\n",
       " '/Users/prld/Dropbox/ENSAE/2A/Macro1/TD/td1.pdf',\n",
       " '/Users/prld/Dropbox/ENSAE/2A/Macro1/TD/td3.pdf',\n",
       " '/Users/prld/Dropbox/ENSAE/2A/Macro1/TD/td2.pdf',\n",
       " '/Users/prld/Dropbox/ENSAE/2A/Macro1/exam/par 2018 2019.pdf',\n",
       " '/Users/prld/Dropbox/ENSAE/2A/Macro1/exam/par 2019 2020.pdf',\n",
       " '/Users/prld/Dropbox/ENSAE/2A/Macro1/exam/par 2019 2020 corr.pdf',\n",
       " '/Users/prld/Dropbox/ENSAE/2A/Macro1/exam/par 2020 2021 corr.pdf',\n",
       " '/Users/prld/Dropbox/ENSAE/2A/Macro1/exam/par 2020 2021.pdf',\n",
       " '/Users/prld/Dropbox/ENSAE/2A/Macro1/exam/mip 2019 2020 corr.pdf',\n",
       " '/Users/prld/Dropbox/ENSAE/2A/Macro1/exam/mip 2020 2021 corr.pdf',\n",
       " '/Users/prld/Dropbox/ENSAE/2A/Macro1/exam/mip 2020 2021.pdf',\n",
       " '/Users/prld/Dropbox/ENSAE/2A/Macro1/exam/par 2018 2019 corr.pdf',\n",
       " '/Users/prld/Dropbox/ENSAE/2A/Macro1/exam/mip 2019 2020.pdf',\n",
       " '/Users/prld/Dropbox/ENSAE/2A/Macro1/exam/mip 2018 2019.pdf',\n",
       " '/Users/prld/Dropbox/ENSAE/2A/Macro1/exam/mip 2018 2019 corr.pdf',\n",
       " '/Users/prld/Dropbox/ENSAE/2A/Econo1/quiz6.pdf',\n",
       " '/Users/prld/Dropbox/ENSAE/2A/Econo1/quiz4.pdf',\n",
       " '/Users/prld/Dropbox/ENSAE/2A/Econo1/quiz5.pdf',\n",
       " '/Users/prld/Dropbox/ENSAE/2A/Econo1/quiz1.pdf',\n",
       " '/Users/prld/Dropbox/ENSAE/2A/Econo1/quiz2.pdf',\n",
       " '/Users/prld/Dropbox/ENSAE/2A/Econo1/quiz3.pdf',\n",
       " '/Users/prld/Dropbox/ENSAE/2A/Econo1/DM5.pdf',\n",
       " '/Users/prld/Dropbox/ENSAE/2A/stat1/corr td.pdf',\n",
       " '/Users/prld/Dropbox/ENSAE/2A/stat1/Corrections supp TD1 et TD2.pdf',\n",
       " '/Users/prld/Dropbox/ENSAE/dataskab/.DS_Store',\n",
       " '/Users/prld/Dropbox/ENSAE/dataskab/anglais data/CV_Baptiste_PASQUIER_en.pdf',\n",
       " '/Users/prld/Dropbox/ENSAE/dataskab/anglais data/CV_Eric_Vong_ENG.pdf',\n",
       " '/Users/prld/Dropbox/ENSAE/dataskab/anglais data/CV-Lenny-EBOUANEY-EN.pdf',\n",
       " '/Users/prld/Dropbox/ENSAE/dataskab/anglais data/Anglais.zip',\n",
       " '/Users/prld/Dropbox/ENSAE/dataskab/anglais data/2018-ri-exemple-CV-Princeton.pdf',\n",
       " '/Users/prld/Dropbox/ENSAE/dataskab/anglais data/CV-BaharCoskun-EN.pdf',\n",
       " '/Users/prld/Dropbox/ENSAE/dataskab/anglais data/Resume_LORET.pdf',\n",
       " '/Users/prld/Dropbox/ENSAE/dataskab/anglais data/Academic_resume.pdf',\n",
       " '/Users/prld/Dropbox/ENSAE/dataskab/anglais data/CV-Coni-EN.pdf',\n",
       " '/Users/prld/Dropbox/ENSAE/dataskab/anglais data/CV-Claire-He-EN.pdf',\n",
       " '/Users/prld/Dropbox/ENSAE/dataskab/anglais data/CV_Victor-EN.pdf']"
      ]
     },
     "execution_count": 3,
     "metadata": {},
     "output_type": "execute_result"
    }
   ],
   "source": [
    "retrieve_file_paths(base)"
   ]
  },
  {
   "cell_type": "code",
   "execution_count": 5,
   "metadata": {},
   "outputs": [
    {
     "data": {
      "text/plain": [
       "['1A', '2A', 'dataskab']"
      ]
     },
     "execution_count": 5,
     "metadata": {},
     "output_type": "execute_result"
    }
   ],
   "source": [
    "#subfolders = [ f.path for f in os.scandir(base) if f.is_dir() ]\n",
    "subfolders = [ f.name for f in os.scandir(base) if f.is_dir() ]\n",
    "subfolders"
   ]
  },
  {
   "cell_type": "code",
   "execution_count": 7,
   "metadata": {},
   "outputs": [],
   "source": [
    "from inquirer.themes import *"
   ]
  },
  {
   "cell_type": "code",
   "execution_count": 8,
   "metadata": {},
   "outputs": [
    {
     "data": {
      "text/plain": [
       "[]"
      ]
     },
     "execution_count": 8,
     "metadata": {},
     "output_type": "execute_result"
    }
   ],
   "source": [
    "x = \"/Users/prld/Desktop/TEST/S1.Macro\"\n",
    "subfolders = [ f.name for f in os.scandir(x) if f.is_dir() ]\n",
    "subfolders"
   ]
  },
  {
   "cell_type": "code",
   "execution_count": 18,
   "metadata": {},
   "outputs": [
    {
     "data": {
      "text/plain": [
       "53159"
      ]
     },
     "execution_count": 18,
     "metadata": {},
     "output_type": "execute_result"
    }
   ],
   "source": [
    "from repo_check_size import *\n",
    "x = check_repo_size(\"https://github.com/PierreRlld/NoTeX\")\n",
    "x"
   ]
  },
  {
   "cell_type": "code",
   "execution_count": 29,
   "metadata": {},
   "outputs": [
    {
     "data": {
      "text/plain": [
       "'5.3%'"
      ]
     },
     "execution_count": 29,
     "metadata": {},
     "output_type": "execute_result"
    }
   ],
   "source": [
    "str(round(100*(x/1000/1000),1))+\"%\""
   ]
  }
 ],
 "metadata": {
  "kernelspec": {
   "display_name": "mlpyth",
   "language": "python",
   "name": "python3"
  },
  "language_info": {
   "codemirror_mode": {
    "name": "ipython",
    "version": 3
   },
   "file_extension": ".py",
   "mimetype": "text/x-python",
   "name": "python",
   "nbconvert_exporter": "python",
   "pygments_lexer": "ipython3",
   "version": "3.10.5"
  },
  "orig_nbformat": 4
 },
 "nbformat": 4,
 "nbformat_minor": 2
}
